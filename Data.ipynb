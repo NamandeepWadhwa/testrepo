{
    "cells": [
        {
            "cell_type": "markdown",
            "metadata": {
                "collapsed": true
            },
            "source": "# My Jupyter Notebook on IBM Watson Studio"
        },
        {
            "cell_type": "markdown",
            "metadata": {},
            "source": "### Three programming languages are\n<ul>\n    <li>Python</li>\n     <li>R</li>\n     <li>SOL</li>\n</ul>"
        },
        {
            "cell_type": "markdown",
            "metadata": {},
            "source": "### Three data science libraries are\n<ul>\n    <li>Pandas</li>\n     <li>NumPy</li>\n     <li>Tensor flow</li>\n</ul>"
        },
        {
            "cell_type": "markdown",
            "metadata": {},
            "source": "### Three data science tools are\n<ul>\n    <li>Jupyter</li>\n     <li>RStdio</li>\n     <li>Watson Studio</li>\n</ul>"
        },
        {
            "cell_type": "code",
            "execution_count": 4,
            "metadata": {},
            "outputs": [
                {
                    "name": "stdout",
                    "output_type": "stream",
                    "text": "Enter a number30\nEnter a number30\n60\n900\n"
                }
            ],
            "source": "x=int(input(\"Enter a number\"))\ny=int(input(\"Enter a number\"))\nprint(x+y)\nprint(x*y)\n    \n"
        },
        {
            "cell_type": "code",
            "execution_count": 7,
            "metadata": {},
            "outputs": [
                {
                    "name": "stdout",
                    "output_type": "stream",
                    "text": "Enter minute60\nhours= 1.0\n"
                }
            ],
            "source": "min=int(input(\"Enter minute\"))\nprint(\"hours=\", min/60)"
        },
        {
            "cell_type": "markdown",
            "metadata": {},
            "source": "### Three objectives are\n<ul>\n    <li>To understand and use Jupyter Notebook</li>\n     <li>To learn how to publish work on github</li>\n     <li>Get started with watson studio</li>\n</ul>"
        },
        {
            "cell_type": "markdown",
            "metadata": {},
            "source": "<b> Namandeep Singh Wadhwa</b>"
        },
        {
            "cell_type": "code",
            "execution_count": null,
            "metadata": {},
            "outputs": [],
            "source": ""
        }
    ],
    "metadata": {
        "kernelspec": {
            "display_name": "Python 3.10",
            "language": "python",
            "name": "python3"
        },
        "language_info": {
            "codemirror_mode": {
                "name": "ipython",
                "version": 3
            },
            "file_extension": ".py",
            "mimetype": "text/x-python",
            "name": "python",
            "nbconvert_exporter": "python",
            "pygments_lexer": "ipython3",
            "version": "3.10.6"
        }
    },
    "nbformat": 4,
    "nbformat_minor": 1
}