{
    "cells": [
        {
            "cell_type": "markdown",
            "metadata": {
                "collapsed": true
            },
            "source": "# My Jupyter Notebook on IBM Watson Studio"
        },
        {
            "cell_type": "markdown",
            "metadata": {},
            "source": "<b> Namandeep Singh Wadhwa</b>"
        },
        {
            "cell_type": "markdown",
            "metadata": {},
            "source": "Student"
        },
        {
            "cell_type": "markdown",
            "metadata": {},
            "source": "I am writing a simple print statment in python"
        },
        {
            "cell_type": "code",
            "execution_count": 2,
            "metadata": {},
            "outputs": [
                {
                    "name": "stdout",
                    "output_type": "stream",
                    "text": "I like to watch anime\n"
                }
            ],
            "source": "print(\"I like to watch anime\")"
        },
        {
            "cell_type": "markdown",
            "metadata": {},
            "source": "<h3> My top three fav anime are</h3>\n<hr>\n<ul>\n    <li>FulMetal alchemist brotherhood</li>\n    <li>Death Note</li>\n    <li>AOT</li>\n    \n   __[My linkdedin](https://www.linkedin.com/in/namandeep-singh-wadhwa-044b8a1a9/)__\n    \n"
        },
        {
            "cell_type": "code",
            "execution_count": null,
            "metadata": {},
            "outputs": [],
            "source": ""
        }
    ],
    "metadata": {
        "kernelspec": {
            "display_name": "Python 3.10",
            "language": "python",
            "name": "python3"
        },
        "language_info": {
            "codemirror_mode": {
                "name": "ipython",
                "version": 3
            },
            "file_extension": ".py",
            "mimetype": "text/x-python",
            "name": "python",
            "nbconvert_exporter": "python",
            "pygments_lexer": "ipython3",
            "version": "3.10.6"
        }
    },
    "nbformat": 4,
    "nbformat_minor": 1
}